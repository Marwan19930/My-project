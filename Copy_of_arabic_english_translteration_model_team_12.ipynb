{
  "nbformat": 4,
  "nbformat_minor": 0,
  "metadata": {
    "colab": {
      "provenance": [],
      "gpuType": "T4",
      "include_colab_link": true
    },
    "kernelspec": {
      "name": "python3",
      "display_name": "Python 3"
    },
    "language_info": {
      "name": "python"
    },
    "accelerator": "GPU"
  },
  "cells": [
    {
      "cell_type": "markdown",
      "metadata": {
        "id": "view-in-github",
        "colab_type": "text"
      },
      "source": [
        "<a href=\"https://colab.research.google.com/github/Marwan19930/My-project/blob/main/Copy_of_arabic_english_translteration_model_team_12.ipynb\" target=\"_parent\"><img src=\"https://colab.research.google.com/assets/colab-badge.svg\" alt=\"Open In Colab\"/></a>"
      ]
    },
    {
      "cell_type": "markdown",
      "source": [
        "First, we import the dependencies"
      ],
      "metadata": {
        "id": "6Q-BAUzuEime"
      }
    },
    {
      "cell_type": "code",
      "execution_count": null,
      "metadata": {
        "id": "b2q2ZbHQDie-"
      },
      "outputs": [],
      "source": [
        "import pandas as pd"
      ]
    },
    {
      "cell_type": "markdown",
      "source": [
        "Get the url's of dataset files\n"
      ],
      "metadata": {
        "id": "UVBXnVpYEoht"
      }
    },
    {
      "cell_type": "code",
      "source": [
        "# Load all datasets\n",
        "url1 = 'https://raw.githubusercontent.com/Marwan19930/arabic-transliteration-dataset/main/15%2C898_ar2en.csv'\n",
        "url2 = 'https://raw.githubusercontent.com/Marwan19930/arabic-transliteration-dataset/main/80%2C000_EN-AR_Named-entities.csv'\n",
        "url3 = 'https://raw.githubusercontent.com/Marwan19930/arabic-transliteration-dataset/main/NETransliteration.csv'\n",
        "url4 = 'https://raw.githubusercontent.com/Marwan19930/arabic-transliteration-dataset/main/arabic_names_dataset.csv'\n",
        "\n",
        "df1 = pd.read_csv(url1)\n",
        "df2 = pd.read_csv(url2)\n",
        "df3 = pd.read_csv(url3)\n",
        "df4 = pd.read_csv(url4)\n",
        "\n",
        "# Combine all datasets vertically\n",
        "combined_df = pd.concat([df1, df2, df3, df4], ignore_index=True)"
      ],
      "metadata": {
        "id": "aC7_ugYGEuSj"
      },
      "execution_count": null,
      "outputs": []
    },
    {
      "cell_type": "code",
      "source": [
        "print(\"=\"*50)\n",
        "print(\"BEFORE CLEANING: DATASET SUMMARY\")\n",
        "print(\"=\"*50)\n",
        "\n",
        "# Basic info\n",
        "print(\"\\n=== Dataset Shape ===\")\n",
        "print(f\"Total rows: {len(combined_df)}\")\n",
        "print(f\"Columns: {combined_df.columns.tolist()}\")\n",
        "\n",
        "# Check for null values\n",
        "print(\"\\n=== Null Values ===\")\n",
        "print(combined_df.isnull().sum())\n",
        "\n",
        "# Check for empty strings\n",
        "print(\"\\n=== Empty Strings ===\")\n",
        "print(f\"Arabic empty: {(combined_df['arabic'] == '').sum()}\")\n",
        "print(f\"English empty: {(combined_df['english'] == '').sum()}\")\n",
        "\n",
        "# Check duplicates\n",
        "print(\"\\n=== Duplicates ===\")\n",
        "duplicates = combined_df.duplicated(subset=['arabic', 'english'], keep=False)\n",
        "print(f\"Total duplicate rows: {duplicates.sum()}\")\n",
        "print(\"\\nSample duplicates (if any):\")\n",
        "print(combined_df[duplicates].head(3) if duplicates.any() else \"No duplicates found\")\n",
        "\n",
        "original_size = len(combined_df)"
      ],
      "metadata": {
        "id": "muek7rOSpTPO",
        "outputId": "06eea561-d52e-4eaf-bf93-c4b37301ac08",
        "colab": {
          "base_uri": "https://localhost:8080/"
        }
      },
      "execution_count": null,
      "outputs": [
        {
          "output_type": "stream",
          "name": "stdout",
          "text": [
            "==================================================\n",
            "BEFORE CLEANING: DATASET SUMMARY\n",
            "==================================================\n",
            "\n",
            "=== Dataset Shape ===\n",
            "Total rows: 242203\n",
            "Columns: ['arabic', 'english']\n",
            "\n",
            "=== Null Values ===\n",
            "arabic     7\n",
            "english    0\n",
            "dtype: int64\n",
            "\n",
            "=== Empty Strings ===\n",
            "Arabic empty: 0\n",
            "English empty: 0\n",
            "\n",
            "=== Duplicates ===\n",
            "Total duplicate rows: 29445\n",
            "\n",
            "Sample duplicates (if any):\n",
            "      arabic english\n",
            "3792      دى      de\n",
            "3793      دى      de\n",
            "16173   لانا    Lana\n"
          ]
        }
      ]
    },
    {
      "cell_type": "code",
      "source": [
        "# Standardize column names (adjust based on your actual column names)\n",
        "combined_df = combined_df.rename(columns={\n",
        "    'Arabic': 'arabic',\n",
        "    'English': 'english',\n",
        "    'AR_NAME': 'arabic',  # If column names differ\n",
        "    'EN_NAME': 'english'   # Across datasets\n",
        "})"
      ],
      "metadata": {
        "id": "psVG52C5F-ba"
      },
      "execution_count": null,
      "outputs": []
    },
    {
      "cell_type": "code",
      "source": [
        "# Remove rows with empty strings or NaN values\n",
        "combined_df = combined_df.dropna(subset=['arabic', 'english'])  # Drops NaN\n",
        "combined_df = combined_df[(combined_df['arabic'] != '') & (combined_df['english'] != '')]"
      ],
      "metadata": {
        "id": "DtBib4dXpXqV"
      },
      "execution_count": null,
      "outputs": []
    },
    {
      "cell_type": "code",
      "source": [
        "# Remove exact duplicates\n",
        "combined_df = combined_df.drop_duplicates(subset=['arabic', 'english'])\n",
        "\n",
        "# Optional: Case-insensitive deduplication (if needed)\n",
        "combined_df['arabic_lower'] = combined_df['arabic'].str.lower()\n",
        "combined_df['english_lower'] = combined_df['english'].str.lower()\n",
        "combined_df = combined_df.drop_duplicates(subset=['arabic_lower', 'english_lower'])\n",
        "combined_df = combined_df.drop(columns=['arabic_lower', 'english_lower'])"
      ],
      "metadata": {
        "id": "mfD8AfRkpZvL"
      },
      "execution_count": null,
      "outputs": []
    },
    {
      "cell_type": "code",
      "source": [
        "import re\n",
        "\n",
        "def remove_tashkeel(text):\n",
        "    \"\"\"Remove Arabic diacritics\"\"\"\n",
        "    tashkeel = re.compile(r'[\\u064b-\\u065f\\u0670]')\n",
        "    return re.sub(tashkeel, '', str(text))\n",
        "\n",
        "def clean_arabic(text):\n",
        "    \"\"\"Keep only Arabic letters and basic punctuation\"\"\"\n",
        "    text = remove_tashkeel(text)\n",
        "    arabic_pattern = re.compile(r'[^\\u0600-\\u06FF\\u0750-\\u077F\\u08A0-\\u08FF\\uFB50-\\uFDFF\\uFE70-\\uFEFF 0-9!?.,-]')\n",
        "    return re.sub(arabic_pattern, '', str(text)).strip()\n",
        "\n",
        "def clean_english(text):\n",
        "    \"\"\"Keep only Latin characters and basic punctuation\"\"\"\n",
        "    return re.sub(r'[^A-Za-z0-9 !?.,-]', '', str(text)).strip()\n",
        "\n",
        "# Apply cleaning\n",
        "combined_df['arabic'] = combined_df['arabic'].apply(clean_arabic)\n",
        "combined_df['english'] = combined_df['english'].apply(clean_english)\n",
        "\n",
        "# Remove rows that became empty after cleaning\n",
        "combined_df = combined_df[(combined_df['arabic'] != '') & (combined_df['english'] != '')]"
      ],
      "metadata": {
        "id": "pTJwp7HapbqW"
      },
      "execution_count": null,
      "outputs": []
    },
    {
      "cell_type": "code",
      "source": [
        "print(f\"Final dataset size: {len(combined_df)}\")\n",
        "print(\"Sample rows:\")\n",
        "print(combined_df.sample(3))"
      ],
      "metadata": {
        "id": "KcmtKID9pe0t",
        "colab": {
          "base_uri": "https://localhost:8080/"
        },
        "outputId": "3bcbcf5b-0a71-4e75-e003-2dd21000bb2c"
      },
      "execution_count": null,
      "outputs": [
        {
          "output_type": "stream",
          "name": "stdout",
          "text": [
            "Final dataset size: 217734\n",
            "Sample rows:\n",
            "              arabic        english\n",
            "200872  روبن بورياني  Ruben Buriani\n",
            "56264         كريبتو         Crypto\n",
            "120151   مانويل فالس   Manuel Valls\n"
          ]
        }
      ]
    },
    {
      "cell_type": "code",
      "source": [
        "# Clean the dataset (as in previous steps)\n",
        "combined_df['arabic'] = combined_df['arabic'].apply(clean_arabic)\n",
        "combined_df['english'] = combined_df['english'].apply(clean_english)\n",
        "combined_df = combined_df[(combined_df['arabic'] != '') & (combined_df['english'] != '')]\n",
        "combined_df = combined_df.drop_duplicates(subset=['arabic', 'english'])\n",
        "\n",
        "print(\"\\n\\n\" + \"=\"*50)\n",
        "print(\"AFTER CLEANING: DATASET SUMMARY\")\n",
        "print(\"=\"*50)\n",
        "\n",
        "# Basic info\n",
        "print(\"\\n=== Dataset Shape ===\")\n",
        "print(f\"Total rows remaining: {len(combined_df)}\")\n",
        "print(f\"Rows removed: {original_size - len(combined_df)}\")\n",
        "\n",
        "# Verify no nulls/empty\n",
        "print(\"\\n=== Null/Empty Check ===\")\n",
        "print(\"Nulls after cleaning:\")\n",
        "print(combined_df.isnull().sum())\n",
        "print(f\"\\nArabic empty: {(combined_df['arabic'] == '').sum()}\")\n",
        "print(f\"English empty: {(combined_df['english'] == '').sum()}\")\n",
        "\n",
        "# Verify no duplicates\n",
        "print(\"\\n=== Duplicates Check ===\")\n",
        "duplicates = combined_df.duplicated(subset=['arabic', 'english'], keep=False)\n",
        "print(f\"Remaining duplicates: {duplicates.sum()}\")"
      ],
      "metadata": {
        "id": "gPA2gtw0p-XM",
        "colab": {
          "base_uri": "https://localhost:8080/"
        },
        "outputId": "148211d2-6a32-4dca-9ebe-86e7566480f4"
      },
      "execution_count": null,
      "outputs": [
        {
          "output_type": "stream",
          "name": "stdout",
          "text": [
            "\n",
            "\n",
            "==================================================\n",
            "AFTER CLEANING: DATASET SUMMARY\n",
            "==================================================\n",
            "\n",
            "=== Dataset Shape ===\n",
            "Total rows remaining: 217654\n",
            "Rows removed: 24549\n",
            "\n",
            "=== Null/Empty Check ===\n",
            "Nulls after cleaning:\n",
            "arabic     0\n",
            "english    0\n",
            "dtype: int64\n",
            "\n",
            "Arabic empty: 0\n",
            "English empty: 0\n",
            "\n",
            "=== Duplicates Check ===\n",
            "Remaining duplicates: 0\n"
          ]
        }
      ]
    },
    {
      "cell_type": "code",
      "source": [
        "combined_df.to_csv('cleaned_arabic_english_transliteration.csv', index=False)"
      ],
      "metadata": {
        "id": "Z7M4cNuIqGEx"
      },
      "execution_count": null,
      "outputs": []
    },
    {
      "cell_type": "code",
      "source": [
        "combined_df.head()"
      ],
      "metadata": {
        "colab": {
          "base_uri": "https://localhost:8080/",
          "height": 206
        },
        "id": "Fr_fRSGwB1QD",
        "outputId": "db949df7-45ef-403c-ed5a-8e2320764372"
      },
      "execution_count": null,
      "outputs": [
        {
          "output_type": "execute_result",
          "data": {
            "text/plain": [
              "   arabic  english\n",
              "0  العالي      aal\n",
              "1    أعشى     asha\n",
              "2    أعثم    atham\n",
              "3      آا       aa\n",
              "4  أدلاند  aadland"
            ],
            "text/html": [
              "\n",
              "  <div id=\"df-1c5ac159-c707-40f9-b3c1-523d63f407cb\" class=\"colab-df-container\">\n",
              "    <div>\n",
              "<style scoped>\n",
              "    .dataframe tbody tr th:only-of-type {\n",
              "        vertical-align: middle;\n",
              "    }\n",
              "\n",
              "    .dataframe tbody tr th {\n",
              "        vertical-align: top;\n",
              "    }\n",
              "\n",
              "    .dataframe thead th {\n",
              "        text-align: right;\n",
              "    }\n",
              "</style>\n",
              "<table border=\"1\" class=\"dataframe\">\n",
              "  <thead>\n",
              "    <tr style=\"text-align: right;\">\n",
              "      <th></th>\n",
              "      <th>arabic</th>\n",
              "      <th>english</th>\n",
              "    </tr>\n",
              "  </thead>\n",
              "  <tbody>\n",
              "    <tr>\n",
              "      <th>0</th>\n",
              "      <td>العالي</td>\n",
              "      <td>aal</td>\n",
              "    </tr>\n",
              "    <tr>\n",
              "      <th>1</th>\n",
              "      <td>أعشى</td>\n",
              "      <td>asha</td>\n",
              "    </tr>\n",
              "    <tr>\n",
              "      <th>2</th>\n",
              "      <td>أعثم</td>\n",
              "      <td>atham</td>\n",
              "    </tr>\n",
              "    <tr>\n",
              "      <th>3</th>\n",
              "      <td>آا</td>\n",
              "      <td>aa</td>\n",
              "    </tr>\n",
              "    <tr>\n",
              "      <th>4</th>\n",
              "      <td>أدلاند</td>\n",
              "      <td>aadland</td>\n",
              "    </tr>\n",
              "  </tbody>\n",
              "</table>\n",
              "</div>\n",
              "    <div class=\"colab-df-buttons\">\n",
              "\n",
              "  <div class=\"colab-df-container\">\n",
              "    <button class=\"colab-df-convert\" onclick=\"convertToInteractive('df-1c5ac159-c707-40f9-b3c1-523d63f407cb')\"\n",
              "            title=\"Convert this dataframe to an interactive table.\"\n",
              "            style=\"display:none;\">\n",
              "\n",
              "  <svg xmlns=\"http://www.w3.org/2000/svg\" height=\"24px\" viewBox=\"0 -960 960 960\">\n",
              "    <path d=\"M120-120v-720h720v720H120Zm60-500h600v-160H180v160Zm220 220h160v-160H400v160Zm0 220h160v-160H400v160ZM180-400h160v-160H180v160Zm440 0h160v-160H620v160ZM180-180h160v-160H180v160Zm440 0h160v-160H620v160Z\"/>\n",
              "  </svg>\n",
              "    </button>\n",
              "\n",
              "  <style>\n",
              "    .colab-df-container {\n",
              "      display:flex;\n",
              "      gap: 12px;\n",
              "    }\n",
              "\n",
              "    .colab-df-convert {\n",
              "      background-color: #E8F0FE;\n",
              "      border: none;\n",
              "      border-radius: 50%;\n",
              "      cursor: pointer;\n",
              "      display: none;\n",
              "      fill: #1967D2;\n",
              "      height: 32px;\n",
              "      padding: 0 0 0 0;\n",
              "      width: 32px;\n",
              "    }\n",
              "\n",
              "    .colab-df-convert:hover {\n",
              "      background-color: #E2EBFA;\n",
              "      box-shadow: 0px 1px 2px rgba(60, 64, 67, 0.3), 0px 1px 3px 1px rgba(60, 64, 67, 0.15);\n",
              "      fill: #174EA6;\n",
              "    }\n",
              "\n",
              "    .colab-df-buttons div {\n",
              "      margin-bottom: 4px;\n",
              "    }\n",
              "\n",
              "    [theme=dark] .colab-df-convert {\n",
              "      background-color: #3B4455;\n",
              "      fill: #D2E3FC;\n",
              "    }\n",
              "\n",
              "    [theme=dark] .colab-df-convert:hover {\n",
              "      background-color: #434B5C;\n",
              "      box-shadow: 0px 1px 3px 1px rgba(0, 0, 0, 0.15);\n",
              "      filter: drop-shadow(0px 1px 2px rgba(0, 0, 0, 0.3));\n",
              "      fill: #FFFFFF;\n",
              "    }\n",
              "  </style>\n",
              "\n",
              "    <script>\n",
              "      const buttonEl =\n",
              "        document.querySelector('#df-1c5ac159-c707-40f9-b3c1-523d63f407cb button.colab-df-convert');\n",
              "      buttonEl.style.display =\n",
              "        google.colab.kernel.accessAllowed ? 'block' : 'none';\n",
              "\n",
              "      async function convertToInteractive(key) {\n",
              "        const element = document.querySelector('#df-1c5ac159-c707-40f9-b3c1-523d63f407cb');\n",
              "        const dataTable =\n",
              "          await google.colab.kernel.invokeFunction('convertToInteractive',\n",
              "                                                    [key], {});\n",
              "        if (!dataTable) return;\n",
              "\n",
              "        const docLinkHtml = 'Like what you see? Visit the ' +\n",
              "          '<a target=\"_blank\" href=https://colab.research.google.com/notebooks/data_table.ipynb>data table notebook</a>'\n",
              "          + ' to learn more about interactive tables.';\n",
              "        element.innerHTML = '';\n",
              "        dataTable['output_type'] = 'display_data';\n",
              "        await google.colab.output.renderOutput(dataTable, element);\n",
              "        const docLink = document.createElement('div');\n",
              "        docLink.innerHTML = docLinkHtml;\n",
              "        element.appendChild(docLink);\n",
              "      }\n",
              "    </script>\n",
              "  </div>\n",
              "\n",
              "\n",
              "<div id=\"df-b2ded81d-cf3e-4bb7-a06d-c7a690b2b06b\">\n",
              "  <button class=\"colab-df-quickchart\" onclick=\"quickchart('df-b2ded81d-cf3e-4bb7-a06d-c7a690b2b06b')\"\n",
              "            title=\"Suggest charts\"\n",
              "            style=\"display:none;\">\n",
              "\n",
              "<svg xmlns=\"http://www.w3.org/2000/svg\" height=\"24px\"viewBox=\"0 0 24 24\"\n",
              "     width=\"24px\">\n",
              "    <g>\n",
              "        <path d=\"M19 3H5c-1.1 0-2 .9-2 2v14c0 1.1.9 2 2 2h14c1.1 0 2-.9 2-2V5c0-1.1-.9-2-2-2zM9 17H7v-7h2v7zm4 0h-2V7h2v10zm4 0h-2v-4h2v4z\"/>\n",
              "    </g>\n",
              "</svg>\n",
              "  </button>\n",
              "\n",
              "<style>\n",
              "  .colab-df-quickchart {\n",
              "      --bg-color: #E8F0FE;\n",
              "      --fill-color: #1967D2;\n",
              "      --hover-bg-color: #E2EBFA;\n",
              "      --hover-fill-color: #174EA6;\n",
              "      --disabled-fill-color: #AAA;\n",
              "      --disabled-bg-color: #DDD;\n",
              "  }\n",
              "\n",
              "  [theme=dark] .colab-df-quickchart {\n",
              "      --bg-color: #3B4455;\n",
              "      --fill-color: #D2E3FC;\n",
              "      --hover-bg-color: #434B5C;\n",
              "      --hover-fill-color: #FFFFFF;\n",
              "      --disabled-bg-color: #3B4455;\n",
              "      --disabled-fill-color: #666;\n",
              "  }\n",
              "\n",
              "  .colab-df-quickchart {\n",
              "    background-color: var(--bg-color);\n",
              "    border: none;\n",
              "    border-radius: 50%;\n",
              "    cursor: pointer;\n",
              "    display: none;\n",
              "    fill: var(--fill-color);\n",
              "    height: 32px;\n",
              "    padding: 0;\n",
              "    width: 32px;\n",
              "  }\n",
              "\n",
              "  .colab-df-quickchart:hover {\n",
              "    background-color: var(--hover-bg-color);\n",
              "    box-shadow: 0 1px 2px rgba(60, 64, 67, 0.3), 0 1px 3px 1px rgba(60, 64, 67, 0.15);\n",
              "    fill: var(--button-hover-fill-color);\n",
              "  }\n",
              "\n",
              "  .colab-df-quickchart-complete:disabled,\n",
              "  .colab-df-quickchart-complete:disabled:hover {\n",
              "    background-color: var(--disabled-bg-color);\n",
              "    fill: var(--disabled-fill-color);\n",
              "    box-shadow: none;\n",
              "  }\n",
              "\n",
              "  .colab-df-spinner {\n",
              "    border: 2px solid var(--fill-color);\n",
              "    border-color: transparent;\n",
              "    border-bottom-color: var(--fill-color);\n",
              "    animation:\n",
              "      spin 1s steps(1) infinite;\n",
              "  }\n",
              "\n",
              "  @keyframes spin {\n",
              "    0% {\n",
              "      border-color: transparent;\n",
              "      border-bottom-color: var(--fill-color);\n",
              "      border-left-color: var(--fill-color);\n",
              "    }\n",
              "    20% {\n",
              "      border-color: transparent;\n",
              "      border-left-color: var(--fill-color);\n",
              "      border-top-color: var(--fill-color);\n",
              "    }\n",
              "    30% {\n",
              "      border-color: transparent;\n",
              "      border-left-color: var(--fill-color);\n",
              "      border-top-color: var(--fill-color);\n",
              "      border-right-color: var(--fill-color);\n",
              "    }\n",
              "    40% {\n",
              "      border-color: transparent;\n",
              "      border-right-color: var(--fill-color);\n",
              "      border-top-color: var(--fill-color);\n",
              "    }\n",
              "    60% {\n",
              "      border-color: transparent;\n",
              "      border-right-color: var(--fill-color);\n",
              "    }\n",
              "    80% {\n",
              "      border-color: transparent;\n",
              "      border-right-color: var(--fill-color);\n",
              "      border-bottom-color: var(--fill-color);\n",
              "    }\n",
              "    90% {\n",
              "      border-color: transparent;\n",
              "      border-bottom-color: var(--fill-color);\n",
              "    }\n",
              "  }\n",
              "</style>\n",
              "\n",
              "  <script>\n",
              "    async function quickchart(key) {\n",
              "      const quickchartButtonEl =\n",
              "        document.querySelector('#' + key + ' button');\n",
              "      quickchartButtonEl.disabled = true;  // To prevent multiple clicks.\n",
              "      quickchartButtonEl.classList.add('colab-df-spinner');\n",
              "      try {\n",
              "        const charts = await google.colab.kernel.invokeFunction(\n",
              "            'suggestCharts', [key], {});\n",
              "      } catch (error) {\n",
              "        console.error('Error during call to suggestCharts:', error);\n",
              "      }\n",
              "      quickchartButtonEl.classList.remove('colab-df-spinner');\n",
              "      quickchartButtonEl.classList.add('colab-df-quickchart-complete');\n",
              "    }\n",
              "    (() => {\n",
              "      let quickchartButtonEl =\n",
              "        document.querySelector('#df-b2ded81d-cf3e-4bb7-a06d-c7a690b2b06b button');\n",
              "      quickchartButtonEl.style.display =\n",
              "        google.colab.kernel.accessAllowed ? 'block' : 'none';\n",
              "    })();\n",
              "  </script>\n",
              "</div>\n",
              "\n",
              "    </div>\n",
              "  </div>\n"
            ],
            "application/vnd.google.colaboratory.intrinsic+json": {
              "type": "dataframe",
              "variable_name": "combined_df"
            }
          },
          "metadata": {},
          "execution_count": 11
        }
      ]
    },
    {
      "cell_type": "markdown",
      "source": [
        "#####Prepare the dataset from combined_df for training a Seq2Seq LSTM or GRU model for Arabic-to-English transliteration."
      ],
      "metadata": {
        "id": "laxdj4VIGOK7"
      }
    },
    {
      "cell_type": "code",
      "source": [
        "#Check column names\n",
        "\n",
        "print(combined_df.columns)"
      ],
      "metadata": {
        "colab": {
          "base_uri": "https://localhost:8080/"
        },
        "id": "mqqK596aBS5a",
        "outputId": "5665e714-6da8-42e4-c3c6-fbeb0de14c12"
      },
      "execution_count": null,
      "outputs": [
        {
          "output_type": "stream",
          "name": "stdout",
          "text": [
            "Index(['arabic', 'english'], dtype='object')\n"
          ]
        }
      ]
    },
    {
      "cell_type": "code",
      "source": [
        "#Add start (\\t) and end (\\n) tokens to English\n",
        "\n",
        "combined_df['input'] = combined_df['arabic']\n",
        "combined_df['target'] = combined_df['english'].apply(lambda x: '\\t' + x + '\\n')"
      ],
      "metadata": {
        "id": "Ch-miRicDMyo"
      },
      "execution_count": null,
      "outputs": []
    },
    {
      "cell_type": "code",
      "source": [
        "combined_df.head()"
      ],
      "metadata": {
        "colab": {
          "base_uri": "https://localhost:8080/",
          "height": 206
        },
        "id": "xH7EXXeZDR6A",
        "outputId": "0bdea94a-e064-47b1-e5bc-db8ba93dc23b"
      },
      "execution_count": null,
      "outputs": [
        {
          "output_type": "execute_result",
          "data": {
            "text/plain": [
              "   arabic  english   input       target\n",
              "0  العالي      aal  العالي      \\taal\\n\n",
              "1    أعشى     asha    أعشى     \\tasha\\n\n",
              "2    أعثم    atham    أعثم    \\tatham\\n\n",
              "3      آا       aa      آا       \\taa\\n\n",
              "4  أدلاند  aadland  أدلاند  \\taadland\\n"
            ],
            "text/html": [
              "\n",
              "  <div id=\"df-96f6c4b0-4e6c-47b6-8279-66175057a1a9\" class=\"colab-df-container\">\n",
              "    <div>\n",
              "<style scoped>\n",
              "    .dataframe tbody tr th:only-of-type {\n",
              "        vertical-align: middle;\n",
              "    }\n",
              "\n",
              "    .dataframe tbody tr th {\n",
              "        vertical-align: top;\n",
              "    }\n",
              "\n",
              "    .dataframe thead th {\n",
              "        text-align: right;\n",
              "    }\n",
              "</style>\n",
              "<table border=\"1\" class=\"dataframe\">\n",
              "  <thead>\n",
              "    <tr style=\"text-align: right;\">\n",
              "      <th></th>\n",
              "      <th>arabic</th>\n",
              "      <th>english</th>\n",
              "      <th>input</th>\n",
              "      <th>target</th>\n",
              "    </tr>\n",
              "  </thead>\n",
              "  <tbody>\n",
              "    <tr>\n",
              "      <th>0</th>\n",
              "      <td>العالي</td>\n",
              "      <td>aal</td>\n",
              "      <td>العالي</td>\n",
              "      <td>\\taal\\n</td>\n",
              "    </tr>\n",
              "    <tr>\n",
              "      <th>1</th>\n",
              "      <td>أعشى</td>\n",
              "      <td>asha</td>\n",
              "      <td>أعشى</td>\n",
              "      <td>\\tasha\\n</td>\n",
              "    </tr>\n",
              "    <tr>\n",
              "      <th>2</th>\n",
              "      <td>أعثم</td>\n",
              "      <td>atham</td>\n",
              "      <td>أعثم</td>\n",
              "      <td>\\tatham\\n</td>\n",
              "    </tr>\n",
              "    <tr>\n",
              "      <th>3</th>\n",
              "      <td>آا</td>\n",
              "      <td>aa</td>\n",
              "      <td>آا</td>\n",
              "      <td>\\taa\\n</td>\n",
              "    </tr>\n",
              "    <tr>\n",
              "      <th>4</th>\n",
              "      <td>أدلاند</td>\n",
              "      <td>aadland</td>\n",
              "      <td>أدلاند</td>\n",
              "      <td>\\taadland\\n</td>\n",
              "    </tr>\n",
              "  </tbody>\n",
              "</table>\n",
              "</div>\n",
              "    <div class=\"colab-df-buttons\">\n",
              "\n",
              "  <div class=\"colab-df-container\">\n",
              "    <button class=\"colab-df-convert\" onclick=\"convertToInteractive('df-96f6c4b0-4e6c-47b6-8279-66175057a1a9')\"\n",
              "            title=\"Convert this dataframe to an interactive table.\"\n",
              "            style=\"display:none;\">\n",
              "\n",
              "  <svg xmlns=\"http://www.w3.org/2000/svg\" height=\"24px\" viewBox=\"0 -960 960 960\">\n",
              "    <path d=\"M120-120v-720h720v720H120Zm60-500h600v-160H180v160Zm220 220h160v-160H400v160Zm0 220h160v-160H400v160ZM180-400h160v-160H180v160Zm440 0h160v-160H620v160ZM180-180h160v-160H180v160Zm440 0h160v-160H620v160Z\"/>\n",
              "  </svg>\n",
              "    </button>\n",
              "\n",
              "  <style>\n",
              "    .colab-df-container {\n",
              "      display:flex;\n",
              "      gap: 12px;\n",
              "    }\n",
              "\n",
              "    .colab-df-convert {\n",
              "      background-color: #E8F0FE;\n",
              "      border: none;\n",
              "      border-radius: 50%;\n",
              "      cursor: pointer;\n",
              "      display: none;\n",
              "      fill: #1967D2;\n",
              "      height: 32px;\n",
              "      padding: 0 0 0 0;\n",
              "      width: 32px;\n",
              "    }\n",
              "\n",
              "    .colab-df-convert:hover {\n",
              "      background-color: #E2EBFA;\n",
              "      box-shadow: 0px 1px 2px rgba(60, 64, 67, 0.3), 0px 1px 3px 1px rgba(60, 64, 67, 0.15);\n",
              "      fill: #174EA6;\n",
              "    }\n",
              "\n",
              "    .colab-df-buttons div {\n",
              "      margin-bottom: 4px;\n",
              "    }\n",
              "\n",
              "    [theme=dark] .colab-df-convert {\n",
              "      background-color: #3B4455;\n",
              "      fill: #D2E3FC;\n",
              "    }\n",
              "\n",
              "    [theme=dark] .colab-df-convert:hover {\n",
              "      background-color: #434B5C;\n",
              "      box-shadow: 0px 1px 3px 1px rgba(0, 0, 0, 0.15);\n",
              "      filter: drop-shadow(0px 1px 2px rgba(0, 0, 0, 0.3));\n",
              "      fill: #FFFFFF;\n",
              "    }\n",
              "  </style>\n",
              "\n",
              "    <script>\n",
              "      const buttonEl =\n",
              "        document.querySelector('#df-96f6c4b0-4e6c-47b6-8279-66175057a1a9 button.colab-df-convert');\n",
              "      buttonEl.style.display =\n",
              "        google.colab.kernel.accessAllowed ? 'block' : 'none';\n",
              "\n",
              "      async function convertToInteractive(key) {\n",
              "        const element = document.querySelector('#df-96f6c4b0-4e6c-47b6-8279-66175057a1a9');\n",
              "        const dataTable =\n",
              "          await google.colab.kernel.invokeFunction('convertToInteractive',\n",
              "                                                    [key], {});\n",
              "        if (!dataTable) return;\n",
              "\n",
              "        const docLinkHtml = 'Like what you see? Visit the ' +\n",
              "          '<a target=\"_blank\" href=https://colab.research.google.com/notebooks/data_table.ipynb>data table notebook</a>'\n",
              "          + ' to learn more about interactive tables.';\n",
              "        element.innerHTML = '';\n",
              "        dataTable['output_type'] = 'display_data';\n",
              "        await google.colab.output.renderOutput(dataTable, element);\n",
              "        const docLink = document.createElement('div');\n",
              "        docLink.innerHTML = docLinkHtml;\n",
              "        element.appendChild(docLink);\n",
              "      }\n",
              "    </script>\n",
              "  </div>\n",
              "\n",
              "\n",
              "<div id=\"df-ba6e78f3-dbc0-4ed2-bce9-a84b0bf0145a\">\n",
              "  <button class=\"colab-df-quickchart\" onclick=\"quickchart('df-ba6e78f3-dbc0-4ed2-bce9-a84b0bf0145a')\"\n",
              "            title=\"Suggest charts\"\n",
              "            style=\"display:none;\">\n",
              "\n",
              "<svg xmlns=\"http://www.w3.org/2000/svg\" height=\"24px\"viewBox=\"0 0 24 24\"\n",
              "     width=\"24px\">\n",
              "    <g>\n",
              "        <path d=\"M19 3H5c-1.1 0-2 .9-2 2v14c0 1.1.9 2 2 2h14c1.1 0 2-.9 2-2V5c0-1.1-.9-2-2-2zM9 17H7v-7h2v7zm4 0h-2V7h2v10zm4 0h-2v-4h2v4z\"/>\n",
              "    </g>\n",
              "</svg>\n",
              "  </button>\n",
              "\n",
              "<style>\n",
              "  .colab-df-quickchart {\n",
              "      --bg-color: #E8F0FE;\n",
              "      --fill-color: #1967D2;\n",
              "      --hover-bg-color: #E2EBFA;\n",
              "      --hover-fill-color: #174EA6;\n",
              "      --disabled-fill-color: #AAA;\n",
              "      --disabled-bg-color: #DDD;\n",
              "  }\n",
              "\n",
              "  [theme=dark] .colab-df-quickchart {\n",
              "      --bg-color: #3B4455;\n",
              "      --fill-color: #D2E3FC;\n",
              "      --hover-bg-color: #434B5C;\n",
              "      --hover-fill-color: #FFFFFF;\n",
              "      --disabled-bg-color: #3B4455;\n",
              "      --disabled-fill-color: #666;\n",
              "  }\n",
              "\n",
              "  .colab-df-quickchart {\n",
              "    background-color: var(--bg-color);\n",
              "    border: none;\n",
              "    border-radius: 50%;\n",
              "    cursor: pointer;\n",
              "    display: none;\n",
              "    fill: var(--fill-color);\n",
              "    height: 32px;\n",
              "    padding: 0;\n",
              "    width: 32px;\n",
              "  }\n",
              "\n",
              "  .colab-df-quickchart:hover {\n",
              "    background-color: var(--hover-bg-color);\n",
              "    box-shadow: 0 1px 2px rgba(60, 64, 67, 0.3), 0 1px 3px 1px rgba(60, 64, 67, 0.15);\n",
              "    fill: var(--button-hover-fill-color);\n",
              "  }\n",
              "\n",
              "  .colab-df-quickchart-complete:disabled,\n",
              "  .colab-df-quickchart-complete:disabled:hover {\n",
              "    background-color: var(--disabled-bg-color);\n",
              "    fill: var(--disabled-fill-color);\n",
              "    box-shadow: none;\n",
              "  }\n",
              "\n",
              "  .colab-df-spinner {\n",
              "    border: 2px solid var(--fill-color);\n",
              "    border-color: transparent;\n",
              "    border-bottom-color: var(--fill-color);\n",
              "    animation:\n",
              "      spin 1s steps(1) infinite;\n",
              "  }\n",
              "\n",
              "  @keyframes spin {\n",
              "    0% {\n",
              "      border-color: transparent;\n",
              "      border-bottom-color: var(--fill-color);\n",
              "      border-left-color: var(--fill-color);\n",
              "    }\n",
              "    20% {\n",
              "      border-color: transparent;\n",
              "      border-left-color: var(--fill-color);\n",
              "      border-top-color: var(--fill-color);\n",
              "    }\n",
              "    30% {\n",
              "      border-color: transparent;\n",
              "      border-left-color: var(--fill-color);\n",
              "      border-top-color: var(--fill-color);\n",
              "      border-right-color: var(--fill-color);\n",
              "    }\n",
              "    40% {\n",
              "      border-color: transparent;\n",
              "      border-right-color: var(--fill-color);\n",
              "      border-top-color: var(--fill-color);\n",
              "    }\n",
              "    60% {\n",
              "      border-color: transparent;\n",
              "      border-right-color: var(--fill-color);\n",
              "    }\n",
              "    80% {\n",
              "      border-color: transparent;\n",
              "      border-right-color: var(--fill-color);\n",
              "      border-bottom-color: var(--fill-color);\n",
              "    }\n",
              "    90% {\n",
              "      border-color: transparent;\n",
              "      border-bottom-color: var(--fill-color);\n",
              "    }\n",
              "  }\n",
              "</style>\n",
              "\n",
              "  <script>\n",
              "    async function quickchart(key) {\n",
              "      const quickchartButtonEl =\n",
              "        document.querySelector('#' + key + ' button');\n",
              "      quickchartButtonEl.disabled = true;  // To prevent multiple clicks.\n",
              "      quickchartButtonEl.classList.add('colab-df-spinner');\n",
              "      try {\n",
              "        const charts = await google.colab.kernel.invokeFunction(\n",
              "            'suggestCharts', [key], {});\n",
              "      } catch (error) {\n",
              "        console.error('Error during call to suggestCharts:', error);\n",
              "      }\n",
              "      quickchartButtonEl.classList.remove('colab-df-spinner');\n",
              "      quickchartButtonEl.classList.add('colab-df-quickchart-complete');\n",
              "    }\n",
              "    (() => {\n",
              "      let quickchartButtonEl =\n",
              "        document.querySelector('#df-ba6e78f3-dbc0-4ed2-bce9-a84b0bf0145a button');\n",
              "      quickchartButtonEl.style.display =\n",
              "        google.colab.kernel.accessAllowed ? 'block' : 'none';\n",
              "    })();\n",
              "  </script>\n",
              "</div>\n",
              "\n",
              "    </div>\n",
              "  </div>\n"
            ],
            "application/vnd.google.colaboratory.intrinsic+json": {
              "type": "dataframe",
              "variable_name": "combined_df"
            }
          },
          "metadata": {},
          "execution_count": 14
        }
      ]
    },
    {
      "cell_type": "markdown",
      "source": [
        "Extract character sets from the actual data"
      ],
      "metadata": {
        "id": "xi33F-sQF2j8"
      }
    },
    {
      "cell_type": "code",
      "source": [
        "input_texts = combined_df['input'].tolist()\n",
        "target_texts = combined_df['target'].tolist()\n",
        "\n",
        "# Get unique characters in input and target\n",
        "input_characters = sorted(set(''.join(input_texts)))\n",
        "target_characters = sorted(set(''.join(target_texts)))\n",
        "\n",
        "# Create char-to-index dictionaries\n",
        "input_token_index = {char: i for i, char in enumerate(input_characters)}\n",
        "target_token_index = {char: i for i, char in enumerate(target_characters)}"
      ],
      "metadata": {
        "id": "BRXD6eP0Ef0c"
      },
      "execution_count": null,
      "outputs": []
    },
    {
      "cell_type": "markdown",
      "source": [
        "Define vocab sizes and max sequence lengths"
      ],
      "metadata": {
        "id": "JJ_zIkseGh6b"
      }
    },
    {
      "cell_type": "code",
      "source": [
        "encoder_vocab_size = len(input_characters)\n",
        "decoder_vocab_size = len(target_characters)\n",
        "\n",
        "max_encoder_seq_length = max(len(txt) for txt in input_texts)\n",
        "max_decoder_seq_length = max(len(txt) for txt in target_texts)"
      ],
      "metadata": {
        "id": "ltIonQ9JGfbi"
      },
      "execution_count": null,
      "outputs": []
    },
    {
      "cell_type": "markdown",
      "source": [
        "Vectorize your sequences (convert to model input format)"
      ],
      "metadata": {
        "id": "yUZUgyVuGtV7"
      }
    },
    {
      "cell_type": "code",
      "source": [
        "import numpy as np\n",
        "\n",
        "num_samples = len(input_texts)\n",
        "encoder_input_data = np.zeros((num_samples, max_encoder_seq_length), dtype='int32')\n",
        "decoder_input_data = np.zeros((num_samples, max_decoder_seq_length), dtype='int32')\n",
        "decoder_target_data = np.zeros((num_samples, max_decoder_seq_length), dtype='int32')\n",
        "\n",
        "for i, (input_text, target_text) in enumerate(zip(input_texts, target_texts)):\n",
        "    for t, char in enumerate(input_text):\n",
        "        encoder_input_data[i, t] = input_token_index[char]\n",
        "    for t, char in enumerate(target_text):\n",
        "        decoder_input_data[i, t] = target_token_index[char]\n",
        "        if t > 0:\n",
        "            decoder_target_data[i, t - 1] = target_token_index[char]"
      ],
      "metadata": {
        "id": "jBclxcKNGq64"
      },
      "execution_count": null,
      "outputs": []
    },
    {
      "cell_type": "code",
      "source": [
        "print(\"Encoder input shape:\", encoder_input_data.shape)\n",
        "print(\"Decoder input shape:\", decoder_input_data.shape)\n",
        "print(\"Decoder target shape (before expand):\", decoder_target_data.shape)"
      ],
      "metadata": {
        "colab": {
          "base_uri": "https://localhost:8080/"
        },
        "id": "Etp891OTLfA9",
        "outputId": "c205e5fe-f660-428b-f99f-2707375d1fdf"
      },
      "execution_count": null,
      "outputs": [
        {
          "output_type": "stream",
          "name": "stdout",
          "text": [
            "Encoder input shape: (217654, 44)\n",
            "Decoder input shape: (217654, 47)\n",
            "Decoder target shape (before expand): (217654, 47)\n"
          ]
        }
      ]
    },
    {
      "cell_type": "markdown",
      "source": [
        "Building a GRU-based Seq2Seq model architecture for Arabic-to-English transliteration"
      ],
      "metadata": {
        "id": "Q2vcsoE5H5Wt"
      }
    },
    {
      "cell_type": "code",
      "source": [
        "import pandas as pd\n",
        "import tensorflow as tf\n",
        "from tensorflow.keras.models import Model\n",
        "from tensorflow.keras.layers import Input, Embedding, GRU, Dense\n",
        "import numpy as np\n",
        "from tensorflow.keras.utils import to_categorical\n",
        "from sklearn.model_selection import train_test_split\n",
        "import time # For session keeping\n",
        "\n",
        "\n",
        "# 2. Define model parameters\n",
        "embedding_dim = 128\n",
        "hidden_dim = 256\n",
        "\n",
        "# 3. Build the Encoder\n",
        "encoder_inputs = Input(shape=(None,), name='encoder_input')\n",
        "encoder_embedding = Embedding(input_dim=encoder_vocab_size, output_dim=embedding_dim, name='encoder_embedding')(encoder_inputs)\n",
        "encoder_gru = GRU(hidden_dim, return_state=True, name='encoder_gru')\n",
        "encoder_outputs, encoder_state = encoder_gru(encoder_embedding)\n",
        "\n",
        "# 4. Build the Decoder\n",
        "decoder_inputs = Input(shape=(None,), name='decoder_input')\n",
        "decoder_embedding = Embedding(input_dim=decoder_vocab_size, output_dim=embedding_dim, name='decoder_embedding')(decoder_inputs)\n",
        "decoder_gru = GRU(hidden_dim, return_sequences=True, return_state=True, name='decoder_gru')\n",
        "decoder_outputs, _ = decoder_gru(decoder_embedding, initial_state=encoder_state)\n",
        "decoder_dense = Dense(decoder_vocab_size, activation='softmax', name='decoder_dense')\n",
        "decoder_outputs = decoder_dense(decoder_outputs)\n",
        "\n",
        "# 5. Define and compile the model\n",
        "model = Model([encoder_inputs, decoder_inputs], decoder_outputs)\n",
        "model.compile(optimizer='adam', loss='categorical_crossentropy', metrics=['accuracy'])\n",
        "\n",
        "# 6. Print model summary\n",
        "model.summary()\n",
        "\n",
        "# 7. Prepare data for training\n",
        "num_samples = len(input_texts)\n",
        "max_encoder_seq_length = max(len(txt) for txt in input_texts)\n",
        "max_decoder_seq_length = max(len(txt) for txt in target_texts)\n",
        "\n",
        "encoder_input_data = np.zeros((num_samples, max_encoder_seq_length), dtype='int32')\n",
        "decoder_input_data = np.zeros((num_samples, max_decoder_seq_length), dtype='int32')\n",
        "decoder_target_data = np.zeros((num_samples, max_decoder_seq_length), dtype='int32')\n",
        "\n",
        "input_token_index = {char: i for i, char in enumerate(input_characters)}\n",
        "target_token_index = {char: i for i, char in enumerate(target_characters)}\n",
        "\n",
        "for i, (input_text, target_text) in enumerate(zip(input_texts, target_texts)):\n",
        "    for t, char in enumerate(input_text):\n",
        "        encoder_input_data[i, t] = input_token_index[char]\n",
        "    for t, char in enumerate(target_text):\n",
        "        decoder_input_data[i, t] = target_token_index[char]\n",
        "        if t > 0:\n",
        "            decoder_target_data[i, t - 1] = target_token_index[char]\n",
        "\n",
        "# One-hot encode target data\n",
        "decoder_target_data = to_categorical(decoder_target_data, num_classes=decoder_vocab_size)\n",
        "\n",
        "# Split data into training and validation sets\n",
        "encoder_input_data_train, encoder_input_data_val, decoder_input_data_train, decoder_input_data_val, decoder_target_data_train, decoder_target_data_val = train_test_split(\n",
        "    encoder_input_data, decoder_input_data, decoder_target_data, test_size=0.2, random_state=42\n",
        ")\n",
        "\n",
        "# Define DataGenerator class\n",
        "class DataGenerator(tf.keras.utils.Sequence):\n",
        "    def __init__(self, x_data, y_data, batch_size):\n",
        "        self.x_data = x_data\n",
        "        self.y_data = y_data\n",
        "        self.batch_size = batch_size\n",
        "        self.indexes = np.arange(len(self.x_data[0]))\n",
        "\n",
        "    def __len__(self):\n",
        "        return int(np.floor(len(self.x_data[0]) / self.batch_size))\n",
        "\n",
        "    def __getitem__(self, index):\n",
        "        indexes = self.indexes[index * self.batch_size:(index + 1) * self.batch_size]\n",
        "        x_batch_encoder = self.x_data[0][indexes]\n",
        "        x_batch_decoder = self.x_data[1][indexes]\n",
        "        y_batch = self.y_data[indexes]\n",
        "        return [x_batch_encoder, x_batch_decoder], y_batch\n",
        "\n",
        "    def on_epoch_end(self):\n",
        "        np.random.shuffle(self.indexes)\n",
        "\n",
        "    def to_tf_dataset(self):\n",
        "        \"\"\"Creates a tf.data.Dataset from the generator.\"\"\"\n",
        "        # Define output_signature with nested tuples\n",
        "        output_signature = (\n",
        "            (\n",
        "                tf.TensorSpec(shape=(None, max_encoder_seq_length), dtype=tf.int32),  # Encoder input\n",
        "                tf.TensorSpec(shape=(None, max_decoder_seq_length), dtype=tf.int32)   # Decoder input\n",
        "            ),\n",
        "            tf.TensorSpec(shape=(None, max_decoder_seq_length, decoder_vocab_size), dtype=tf.float32)  # Target\n",
        "        )\n",
        "\n",
        "        return tf.data.Dataset.from_generator(\n",
        "            self, output_signature=output_signature\n",
        "        ).prefetch(tf.data.AUTOTUNE)\n",
        "\n",
        "# Create data generators\n",
        "train_generator = DataGenerator([encoder_input_data_train, decoder_input_data_train], decoder_target_data_train, batch_size=32)\n",
        "validation_generator = DataGenerator([encoder_input_data_val, decoder_input_data_val], decoder_target_data_val, batch_size=32)\n",
        "\n",
        "# Create and use the tf.data.Dataset\n",
        "train_dataset = train_generator.to_tf_dataset()\n",
        "validation_dataset = validation_generator.to_tf_dataset()\n",
        "\n",
        "# 8. Train the model with tf.data.Dataset\n",
        "model.fit(train_dataset, epochs=20, validation_data=validation_dataset)\n"
      ],
      "metadata": {
        "colab": {
          "base_uri": "https://localhost:8080/",
          "height": 520
        },
        "id": "wyjAefeuNeJf",
        "outputId": "01e555e1-90ab-4547-89be-221298387f1f"
      },
      "execution_count": null,
      "outputs": [
        {
          "output_type": "display_data",
          "data": {
            "text/plain": [
              "\u001b[1mModel: \"functional_1\"\u001b[0m\n"
            ],
            "text/html": [
              "<pre style=\"white-space:pre;overflow-x:auto;line-height:normal;font-family:Menlo,'DejaVu Sans Mono',consolas,'Courier New',monospace\"><span style=\"font-weight: bold\">Model: \"functional_1\"</span>\n",
              "</pre>\n"
            ]
          },
          "metadata": {}
        },
        {
          "output_type": "display_data",
          "data": {
            "text/plain": [
              "┏━━━━━━━━━━━━━━━━━━━━━┳━━━━━━━━━━━━━━━━━━━┳━━━━━━━━━━━━┳━━━━━━━━━━━━━━━━━━━┓\n",
              "┃\u001b[1m \u001b[0m\u001b[1mLayer (type)       \u001b[0m\u001b[1m \u001b[0m┃\u001b[1m \u001b[0m\u001b[1mOutput Shape     \u001b[0m\u001b[1m \u001b[0m┃\u001b[1m \u001b[0m\u001b[1m   Param #\u001b[0m\u001b[1m \u001b[0m┃\u001b[1m \u001b[0m\u001b[1mConnected to     \u001b[0m\u001b[1m \u001b[0m┃\n",
              "┡━━━━━━━━━━━━━━━━━━━━━╇━━━━━━━━━━━━━━━━━━━╇━━━━━━━━━━━━╇━━━━━━━━━━━━━━━━━━━┩\n",
              "│ encoder_input       │ (\u001b[38;5;45mNone\u001b[0m, \u001b[38;5;45mNone\u001b[0m)      │          \u001b[38;5;34m0\u001b[0m │ -                 │\n",
              "│ (\u001b[38;5;33mInputLayer\u001b[0m)        │                   │            │                   │\n",
              "├─────────────────────┼───────────────────┼────────────┼───────────────────┤\n",
              "│ decoder_input       │ (\u001b[38;5;45mNone\u001b[0m, \u001b[38;5;45mNone\u001b[0m)      │          \u001b[38;5;34m0\u001b[0m │ -                 │\n",
              "│ (\u001b[38;5;33mInputLayer\u001b[0m)        │                   │            │                   │\n",
              "├─────────────────────┼───────────────────┼────────────┼───────────────────┤\n",
              "│ encoder_embedding   │ (\u001b[38;5;45mNone\u001b[0m, \u001b[38;5;45mNone\u001b[0m, \u001b[38;5;34m128\u001b[0m) │      \u001b[38;5;34m9,984\u001b[0m │ encoder_input[\u001b[38;5;34m0\u001b[0m]… │\n",
              "│ (\u001b[38;5;33mEmbedding\u001b[0m)         │                   │            │                   │\n",
              "├─────────────────────┼───────────────────┼────────────┼───────────────────┤\n",
              "│ decoder_embedding   │ (\u001b[38;5;45mNone\u001b[0m, \u001b[38;5;45mNone\u001b[0m, \u001b[38;5;34m128\u001b[0m) │      \u001b[38;5;34m8,576\u001b[0m │ decoder_input[\u001b[38;5;34m0\u001b[0m]… │\n",
              "│ (\u001b[38;5;33mEmbedding\u001b[0m)         │                   │            │                   │\n",
              "├─────────────────────┼───────────────────┼────────────┼───────────────────┤\n",
              "│ encoder_gru (\u001b[38;5;33mGRU\u001b[0m)   │ [(\u001b[38;5;45mNone\u001b[0m, \u001b[38;5;34m256\u001b[0m),     │    \u001b[38;5;34m296,448\u001b[0m │ encoder_embeddin… │\n",
              "│                     │ (\u001b[38;5;45mNone\u001b[0m, \u001b[38;5;34m256\u001b[0m)]      │            │                   │\n",
              "├─────────────────────┼───────────────────┼────────────┼───────────────────┤\n",
              "│ decoder_gru (\u001b[38;5;33mGRU\u001b[0m)   │ [(\u001b[38;5;45mNone\u001b[0m, \u001b[38;5;45mNone\u001b[0m,     │    \u001b[38;5;34m296,448\u001b[0m │ decoder_embeddin… │\n",
              "│                     │ \u001b[38;5;34m256\u001b[0m), (\u001b[38;5;45mNone\u001b[0m,      │            │ encoder_gru[\u001b[38;5;34m0\u001b[0m][\u001b[38;5;34m1\u001b[0m] │\n",
              "│                     │ \u001b[38;5;34m256\u001b[0m)]             │            │                   │\n",
              "├─────────────────────┼───────────────────┼────────────┼───────────────────┤\n",
              "│ decoder_dense       │ (\u001b[38;5;45mNone\u001b[0m, \u001b[38;5;45mNone\u001b[0m, \u001b[38;5;34m67\u001b[0m)  │     \u001b[38;5;34m17,219\u001b[0m │ decoder_gru[\u001b[38;5;34m0\u001b[0m][\u001b[38;5;34m0\u001b[0m] │\n",
              "│ (\u001b[38;5;33mDense\u001b[0m)             │                   │            │                   │\n",
              "└─────────────────────┴───────────────────┴────────────┴───────────────────┘\n"
            ],
            "text/html": [
              "<pre style=\"white-space:pre;overflow-x:auto;line-height:normal;font-family:Menlo,'DejaVu Sans Mono',consolas,'Courier New',monospace\">┏━━━━━━━━━━━━━━━━━━━━━┳━━━━━━━━━━━━━━━━━━━┳━━━━━━━━━━━━┳━━━━━━━━━━━━━━━━━━━┓\n",
              "┃<span style=\"font-weight: bold\"> Layer (type)        </span>┃<span style=\"font-weight: bold\"> Output Shape      </span>┃<span style=\"font-weight: bold\">    Param # </span>┃<span style=\"font-weight: bold\"> Connected to      </span>┃\n",
              "┡━━━━━━━━━━━━━━━━━━━━━╇━━━━━━━━━━━━━━━━━━━╇━━━━━━━━━━━━╇━━━━━━━━━━━━━━━━━━━┩\n",
              "│ encoder_input       │ (<span style=\"color: #00d7ff; text-decoration-color: #00d7ff\">None</span>, <span style=\"color: #00d7ff; text-decoration-color: #00d7ff\">None</span>)      │          <span style=\"color: #00af00; text-decoration-color: #00af00\">0</span> │ -                 │\n",
              "│ (<span style=\"color: #0087ff; text-decoration-color: #0087ff\">InputLayer</span>)        │                   │            │                   │\n",
              "├─────────────────────┼───────────────────┼────────────┼───────────────────┤\n",
              "│ decoder_input       │ (<span style=\"color: #00d7ff; text-decoration-color: #00d7ff\">None</span>, <span style=\"color: #00d7ff; text-decoration-color: #00d7ff\">None</span>)      │          <span style=\"color: #00af00; text-decoration-color: #00af00\">0</span> │ -                 │\n",
              "│ (<span style=\"color: #0087ff; text-decoration-color: #0087ff\">InputLayer</span>)        │                   │            │                   │\n",
              "├─────────────────────┼───────────────────┼────────────┼───────────────────┤\n",
              "│ encoder_embedding   │ (<span style=\"color: #00d7ff; text-decoration-color: #00d7ff\">None</span>, <span style=\"color: #00d7ff; text-decoration-color: #00d7ff\">None</span>, <span style=\"color: #00af00; text-decoration-color: #00af00\">128</span>) │      <span style=\"color: #00af00; text-decoration-color: #00af00\">9,984</span> │ encoder_input[<span style=\"color: #00af00; text-decoration-color: #00af00\">0</span>]… │\n",
              "│ (<span style=\"color: #0087ff; text-decoration-color: #0087ff\">Embedding</span>)         │                   │            │                   │\n",
              "├─────────────────────┼───────────────────┼────────────┼───────────────────┤\n",
              "│ decoder_embedding   │ (<span style=\"color: #00d7ff; text-decoration-color: #00d7ff\">None</span>, <span style=\"color: #00d7ff; text-decoration-color: #00d7ff\">None</span>, <span style=\"color: #00af00; text-decoration-color: #00af00\">128</span>) │      <span style=\"color: #00af00; text-decoration-color: #00af00\">8,576</span> │ decoder_input[<span style=\"color: #00af00; text-decoration-color: #00af00\">0</span>]… │\n",
              "│ (<span style=\"color: #0087ff; text-decoration-color: #0087ff\">Embedding</span>)         │                   │            │                   │\n",
              "├─────────────────────┼───────────────────┼────────────┼───────────────────┤\n",
              "│ encoder_gru (<span style=\"color: #0087ff; text-decoration-color: #0087ff\">GRU</span>)   │ [(<span style=\"color: #00d7ff; text-decoration-color: #00d7ff\">None</span>, <span style=\"color: #00af00; text-decoration-color: #00af00\">256</span>),     │    <span style=\"color: #00af00; text-decoration-color: #00af00\">296,448</span> │ encoder_embeddin… │\n",
              "│                     │ (<span style=\"color: #00d7ff; text-decoration-color: #00d7ff\">None</span>, <span style=\"color: #00af00; text-decoration-color: #00af00\">256</span>)]      │            │                   │\n",
              "├─────────────────────┼───────────────────┼────────────┼───────────────────┤\n",
              "│ decoder_gru (<span style=\"color: #0087ff; text-decoration-color: #0087ff\">GRU</span>)   │ [(<span style=\"color: #00d7ff; text-decoration-color: #00d7ff\">None</span>, <span style=\"color: #00d7ff; text-decoration-color: #00d7ff\">None</span>,     │    <span style=\"color: #00af00; text-decoration-color: #00af00\">296,448</span> │ decoder_embeddin… │\n",
              "│                     │ <span style=\"color: #00af00; text-decoration-color: #00af00\">256</span>), (<span style=\"color: #00d7ff; text-decoration-color: #00d7ff\">None</span>,      │            │ encoder_gru[<span style=\"color: #00af00; text-decoration-color: #00af00\">0</span>][<span style=\"color: #00af00; text-decoration-color: #00af00\">1</span>] │\n",
              "│                     │ <span style=\"color: #00af00; text-decoration-color: #00af00\">256</span>)]             │            │                   │\n",
              "├─────────────────────┼───────────────────┼────────────┼───────────────────┤\n",
              "│ decoder_dense       │ (<span style=\"color: #00d7ff; text-decoration-color: #00d7ff\">None</span>, <span style=\"color: #00d7ff; text-decoration-color: #00d7ff\">None</span>, <span style=\"color: #00af00; text-decoration-color: #00af00\">67</span>)  │     <span style=\"color: #00af00; text-decoration-color: #00af00\">17,219</span> │ decoder_gru[<span style=\"color: #00af00; text-decoration-color: #00af00\">0</span>][<span style=\"color: #00af00; text-decoration-color: #00af00\">0</span>] │\n",
              "│ (<span style=\"color: #0087ff; text-decoration-color: #0087ff\">Dense</span>)             │                   │            │                   │\n",
              "└─────────────────────┴───────────────────┴────────────┴───────────────────┘\n",
              "</pre>\n"
            ]
          },
          "metadata": {}
        },
        {
          "output_type": "display_data",
          "data": {
            "text/plain": [
              "\u001b[1m Total params: \u001b[0m\u001b[38;5;34m628,675\u001b[0m (2.40 MB)\n"
            ],
            "text/html": [
              "<pre style=\"white-space:pre;overflow-x:auto;line-height:normal;font-family:Menlo,'DejaVu Sans Mono',consolas,'Courier New',monospace\"><span style=\"font-weight: bold\"> Total params: </span><span style=\"color: #00af00; text-decoration-color: #00af00\">628,675</span> (2.40 MB)\n",
              "</pre>\n"
            ]
          },
          "metadata": {}
        },
        {
          "output_type": "display_data",
          "data": {
            "text/plain": [
              "\u001b[1m Trainable params: \u001b[0m\u001b[38;5;34m628,675\u001b[0m (2.40 MB)\n"
            ],
            "text/html": [
              "<pre style=\"white-space:pre;overflow-x:auto;line-height:normal;font-family:Menlo,'DejaVu Sans Mono',consolas,'Courier New',monospace\"><span style=\"font-weight: bold\"> Trainable params: </span><span style=\"color: #00af00; text-decoration-color: #00af00\">628,675</span> (2.40 MB)\n",
              "</pre>\n"
            ]
          },
          "metadata": {}
        },
        {
          "output_type": "display_data",
          "data": {
            "text/plain": [
              "\u001b[1m Non-trainable params: \u001b[0m\u001b[38;5;34m0\u001b[0m (0.00 B)\n"
            ],
            "text/html": [
              "<pre style=\"white-space:pre;overflow-x:auto;line-height:normal;font-family:Menlo,'DejaVu Sans Mono',consolas,'Courier New',monospace\"><span style=\"font-weight: bold\"> Non-trainable params: </span><span style=\"color: #00af00; text-decoration-color: #00af00\">0</span> (0.00 B)\n",
              "</pre>\n"
            ]
          },
          "metadata": {}
        }
      ]
    }
  ]
}